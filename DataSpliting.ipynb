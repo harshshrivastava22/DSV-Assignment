{
  "nbformat": 4,
  "nbformat_minor": 0,
  "metadata": {
    "colab": {
      "provenance": [],
      "authorship_tag": "ABX9TyOepcnuAZ6M4AdDqbFUEoz7",
      "include_colab_link": true
    },
    "kernelspec": {
      "name": "python3",
      "display_name": "Python 3"
    },
    "language_info": {
      "name": "python"
    }
  },
  "cells": [
    {
      "cell_type": "markdown",
      "metadata": {
        "id": "view-in-github",
        "colab_type": "text"
      },
      "source": [
        "<a href=\"https://colab.research.google.com/github/harshshrivastava22/DSV-Assignment/blob/main/DataSpliting.ipynb\" target=\"_parent\"><img src=\"https://colab.research.google.com/assets/colab-badge.svg\" alt=\"Open In Colab\"/></a>"
      ]
    },
    {
      "cell_type": "code",
      "execution_count": 3,
      "metadata": {
        "colab": {
          "base_uri": "https://localhost:8080/"
        },
        "id": "EldRi14Vs7PV",
        "outputId": "197ac628-bb50-4722-9f18-3ef00214f944"
      },
      "outputs": [
        {
          "output_type": "stream",
          "name": "stdout",
          "text": [
            "Training Set:\n",
            "Features: (120, 4)\n",
            "Target Variable: (120,)\n",
            "\n",
            "Testing Set:\n",
            "Features: (30, 4)\n",
            "Target Variable: (30,)\n"
          ]
        }
      ],
      "source": [
        "\n",
        "\n",
        "# Import necessary libraries\n",
        "from sklearn.datasets import load_iris\n",
        "from sklearn.model_selection import train_test_split\n",
        "\n",
        "# Load the Iris dataset\n",
        "iris = load_iris()\n",
        "\n",
        "# Split the dataset into features (X) and target variable (y)\n",
        "X = iris.data\n",
        "y = iris.target\n",
        "\n",
        "# Split the dataset into training and testing sets using an 80-20 split\n",
        "X_train, X_test, y_train, y_test = train_test_split(X, y, test_size=0.2, random_state=42)\n",
        "\n",
        "# Print the number of samples in both the training and testing sets\n",
        "print(\"Training Set:\")\n",
        "print(\"Features:\", X_train.shape)\n",
        "print(\"Target Variable:\", y_train.shape)\n",
        "print()\n",
        "print(\"Testing Set:\")\n",
        "print(\"Features:\", X_test.shape)\n",
        "print(\"Target Variable:\", y_test.shape)\n",
        "\n",
        "\n"
      ]
    },
    {
      "cell_type": "code",
      "source": [],
      "metadata": {
        "id": "5QpZIWpztvso"
      },
      "execution_count": null,
      "outputs": []
    }
  ]
}